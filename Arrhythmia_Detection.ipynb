{
  "cells": [
    {
      "cell_type": "markdown",
      "source": [
        "**Mounting Drive on Colab**"
      ],
      "metadata": {
        "id": "hKqAe16vKPCD"
      }
    },
    {
      "cell_type": "code",
      "execution_count": null,
      "metadata": {
        "id": "IoB60XupwNAV",
        "colab": {
          "base_uri": "https://localhost:8080/"
        },
        "outputId": "d51c3e7f-2d63-4732-bb3f-3875f4bd0c14"
      },
      "outputs": [
        {
          "output_type": "stream",
          "name": "stdout",
          "text": [
            "Mounted at /content/drive\n"
          ]
        }
      ],
      "source": [
        "from google.colab import drive\n",
        "drive.mount('/content/drive')"
      ]
    },
    {
      "cell_type": "code",
      "execution_count": null,
      "metadata": {
        "colab": {
          "base_uri": "https://localhost:8080/"
        },
        "id": "RSfKGoTmweRP",
        "outputId": "6daf2118-6507-43fc-eff8-2f1a48ee33a6"
      },
      "outputs": [
        {
          "output_type": "stream",
          "name": "stdout",
          "text": [
            "/content/drive/MyDrive/Final\n"
          ]
        }
      ],
      "source": [
        "%cd drive/MyDrive/Final\n"
      ]
    },
    {
      "cell_type": "markdown",
      "source": [
        "**Reading Combined Dataset (MIT-BIH and INCART)**"
      ],
      "metadata": {
        "id": "Ut7oK6ikKjJz"
      }
    },
    {
      "cell_type": "code",
      "execution_count": null,
      "metadata": {
        "colab": {
          "base_uri": "https://localhost:8080/"
        },
        "id": "FJO5K_tQviw7",
        "outputId": "34dfd222-9f44-42ed-d690-5cc3e9bc666b"
      },
      "outputs": [
        {
          "output_type": "stream",
          "name": "stderr",
          "text": [
            "<ipython-input-3-cc9ab9496a09>:2: DtypeWarning: Columns (0) have mixed types. Specify dtype option on import or set low_memory=False.\n",
            "  df4=pd.read_csv(\"combined_dataset.csv\")\n"
          ]
        }
      ],
      "source": [
        "import pandas as  pd\n",
        "df4=pd.read_csv(\"combined_dataset.csv\")"
      ]
    },
    {
      "cell_type": "code",
      "execution_count": null,
      "metadata": {
        "id": "MWAgG-wzoBsZ",
        "colab": {
          "base_uri": "https://localhost:8080/"
        },
        "outputId": "c9fc749a-1dfe-49c0-a509-90ba841b1f81"
      },
      "outputs": [
        {
          "output_type": "execute_result",
          "data": {
            "text/plain": [
              "Index(['record', 'type', '0_pre-RR', '0_post-RR', '0_pPeak', '0_tPeak',\n",
              "       '0_rPeak', '0_sPeak', '0_qPeak', '0_qrs_interval', '0_pq_interval',\n",
              "       '0_qt_interval', '0_st_interval', '0_qrs_morph0', '0_qrs_morph1',\n",
              "       '0_qrs_morph2', '0_qrs_morph3', '0_qrs_morph4', '1_pre-RR', '1_post-RR',\n",
              "       '1_pPeak', '1_tPeak', '1_rPeak', '1_sPeak', '1_qPeak', '1_qrs_interval',\n",
              "       '1_pq_interval', '1_qt_interval', '1_st_interval', '1_qrs_morph0',\n",
              "       '1_qrs_morph1', '1_qrs_morph2', '1_qrs_morph3', '1_qrs_morph4'],\n",
              "      dtype='object')"
            ]
          },
          "metadata": {},
          "execution_count": 4
        }
      ],
      "source": [
        "df4.columns"
      ]
    },
    {
      "cell_type": "code",
      "execution_count": null,
      "metadata": {
        "id": "rSw8LOjDygBa"
      },
      "outputs": [],
      "source": [
        "from sklearn.model_selection import train_test_split\n",
        "x_data=df4.iloc[:,2:]\n",
        "y_label=df4[['type']]"
      ]
    },
    {
      "cell_type": "code",
      "source": [
        "df=df4[df4['type'].isin(['F','Q','SVEB','VEB'])]\n",
        "x_data=df.iloc[:,2:]\n",
        "y_label=df[['type']]\n"
      ],
      "metadata": {
        "id": "3IjBVBZ2KqZD"
      },
      "execution_count": null,
      "outputs": []
    },
    {
      "cell_type": "code",
      "source": [
        "y_label.value_counts()"
      ],
      "metadata": {
        "colab": {
          "base_uri": "https://localhost:8080/"
        },
        "id": "BnnlQpB2Pn3X",
        "outputId": "42de451c-2ec1-4d8c-d3fb-12d87208b19b"
      },
      "execution_count": null,
      "outputs": [
        {
          "output_type": "execute_result",
          "data": {
            "text/plain": [
              "type\n",
              "VEB     36946\n",
              "SVEB    16931\n",
              "F        1045\n",
              "Q         100\n",
              "dtype: int64"
            ]
          },
          "metadata": {},
          "execution_count": 7
        }
      ]
    },
    {
      "cell_type": "markdown",
      "source": [
        "**Oversampling**"
      ],
      "metadata": {
        "id": "E_DoHrgka_lI"
      }
    },
    {
      "cell_type": "code",
      "execution_count": null,
      "metadata": {
        "id": "MLUeHDcFl07M"
      },
      "outputs": [],
      "source": [
        "import pandas as pd\n",
        "from imblearn.over_sampling import SMOTE\n",
        "\n",
        "smote = SMOTE(sampling_strategy='auto', random_state=42)\n",
        "\n",
        "# Fit and transform the data to perform oversampling\n",
        "X_oversampled, y_oversampled = smote.fit_resample(x_data, y_label)\n",
        "\n",
        "# Now, X_oversampled and y_oversampled contain the oversampled dataset with the desired number of samples for each class\n"
      ]
    },
    {
      "cell_type": "code",
      "execution_count": null,
      "metadata": {
        "id": "MOpF_-3syf-k",
        "colab": {
          "base_uri": "https://localhost:8080/"
        },
        "outputId": "99fb7d4c-d70d-4d8a-ea9f-4cd190d0d141"
      },
      "outputs": [
        {
          "output_type": "stream",
          "name": "stdout",
          "text": [
            "Q       36946\n",
            "SVEB    36946\n",
            "VEB     36946\n",
            "F       36946\n",
            "Name: type, dtype: int64\n"
          ]
        }
      ],
      "source": [
        "print(y_oversampled['type'].value_counts())"
      ]
    },
    {
      "cell_type": "code",
      "source": [
        "df2=df4[df4['type'].isin(['N'])]\n",
        "X_oversampled=pd.concat([X_oversampled,pd.DataFrame(df2.iloc[:,2:])],axis=0)\n",
        "y_oversampled=pd.concat([y_oversampled,pd.DataFrame(df2['type'])],axis=0)"
      ],
      "metadata": {
        "id": "xaFnwpN4Q_lw"
      },
      "execution_count": null,
      "outputs": []
    },
    {
      "cell_type": "code",
      "source": [
        "for column in X_oversampled.columns:\n",
        "    X_oversampled[column] = X_oversampled[column].astype(float)"
      ],
      "metadata": {
        "id": "5-Q-O_unYG4Y"
      },
      "execution_count": null,
      "outputs": []
    },
    {
      "cell_type": "code",
      "source": [
        "y_oversampled['type'].value_counts()"
      ],
      "metadata": {
        "colab": {
          "base_uri": "https://localhost:8080/"
        },
        "id": "DKosJPxdSsPi",
        "outputId": "7d496a6d-dc36-4a52-9ade-3ec1dca9bd98"
      },
      "execution_count": null,
      "outputs": [
        {
          "output_type": "execute_result",
          "data": {
            "text/plain": [
              "N       405824\n",
              "Q        36946\n",
              "SVEB     36946\n",
              "VEB      36946\n",
              "F        36946\n",
              "Name: type, dtype: int64"
            ]
          },
          "metadata": {},
          "execution_count": 12
        }
      ]
    },
    {
      "cell_type": "code",
      "execution_count": null,
      "metadata": {
        "id": "Vfu2xe4O8Jke"
      },
      "outputs": [],
      "source": [
        "from imblearn.under_sampling import NearMiss, RandomUnderSampler\n",
        "target_samples=36946\n",
        "sampling_strategy = {'N': target_samples,'F': target_samples,'VEB': target_samples,'SVEB': target_samples,'Q': target_samples}  # Adjust class indices as needed\n",
        "undersampler = RandomUnderSampler(sampling_strategy=sampling_strategy, random_state=42)"
      ]
    },
    {
      "cell_type": "code",
      "execution_count": null,
      "metadata": {
        "id": "FEL9UZvuyf9J"
      },
      "outputs": [],
      "source": [
        "X_resampled, y_resampled = undersampler.fit_resample(X_oversampled,y_oversampled)"
      ]
    },
    {
      "cell_type": "code",
      "source": [
        "y_resampled['type'].value_counts()"
      ],
      "metadata": {
        "colab": {
          "base_uri": "https://localhost:8080/"
        },
        "id": "F02GALxg2Imu",
        "outputId": "37f2cdec-3bcb-45d8-a3fb-b793e68d12c0"
      },
      "execution_count": null,
      "outputs": [
        {
          "output_type": "execute_result",
          "data": {
            "text/plain": [
              "F       36946\n",
              "N       36946\n",
              "Q       36946\n",
              "SVEB    36946\n",
              "VEB     36946\n",
              "Name: type, dtype: int64"
            ]
          },
          "metadata": {},
          "execution_count": 15
        }
      ]
    },
    {
      "cell_type": "markdown",
      "source": [
        "**Splitting the dataset**"
      ],
      "metadata": {
        "id": "YSfHKaFIbesM"
      }
    },
    {
      "cell_type": "code",
      "execution_count": null,
      "metadata": {
        "id": "U4iVRkr1rKN8"
      },
      "outputs": [],
      "source": [
        "X_train, X_test, y_train, y_test = train_test_split(X_resampled, y_resampled,test_size=0.3, random_state=101)"
      ]
    },
    {
      "cell_type": "code",
      "execution_count": null,
      "metadata": {
        "id": "Pw6Li8yWrABX"
      },
      "outputs": [],
      "source": [
        "from sklearn import preprocessing\n",
        "\n",
        "min_max_scaler = preprocessing.MinMaxScaler()\n",
        "X_train_scaled = min_max_scaler.fit_transform(X_train)\n",
        "X_test_scaled = min_max_scaler.transform(X_test)"
      ]
    },
    {
      "cell_type": "markdown",
      "source": [
        "**Random Forest Model**"
      ],
      "metadata": {
        "id": "id2XRTW7TtzB"
      }
    },
    {
      "cell_type": "code",
      "execution_count": null,
      "metadata": {
        "id": "EjI8ZsadyHev",
        "colab": {
          "base_uri": "https://localhost:8080/"
        },
        "outputId": "4025116a-e9f0-4744-e9f4-4e5ad1480ec3"
      },
      "outputs": [
        {
          "output_type": "stream",
          "name": "stderr",
          "text": [
            "<ipython-input-20-e61fc98144c7>:5: DataConversionWarning: A column-vector y was passed when a 1d array was expected. Please change the shape of y to (n_samples,), for example using ravel().\n",
            "  model.fit(X_train_scaled, y_train)\n"
          ]
        },
        {
          "output_type": "stream",
          "name": "stdout",
          "text": [
            "Accuracy for the train data 0.9633828521935489\n",
            "Accuracy: 0.9540951659178261\n",
            "*** Confusion Matrix ***\n",
            "[[10784   277     0    34    52]\n",
            " [   75 10519    47   322    82]\n",
            " [    1     2 11113    89     5]\n",
            " [    8   565    56 10100   141]\n",
            " [  101   147   132   408 10359]]\n"
          ]
        }
      ],
      "source": [
        "from sklearn.ensemble import VotingClassifier,RandomForestClassifier\n",
        "\n",
        "from sklearn import metrics\n",
        "model = RandomForestClassifier(random_state=101, n_estimators=150,max_depth=12)\n",
        "model.fit(X_train_scaled, y_train)\n",
        "\n",
        "# training accuracy\n",
        "print('Accuracy for the train data', model.score(X_train_scaled, y_train))\n",
        "\n",
        "\n",
        "y_pred = model.predict(X_test_scaled)\n",
        "print(\"Accuracy:\",metrics.accuracy_score(y_test, y_pred))\n",
        "\n",
        "print(\"*** Confusion Matrix ***\")\n",
        "print(metrics.confusion_matrix(y_test, y_pred))"
      ]
    },
    {
      "cell_type": "code",
      "source": [
        "from sklearn.metrics import accuracy_score, precision_score, recall_score, confusion_matrix\n",
        "accuracy = accuracy_score(y_test, y_pred)\n",
        "print(f\"Accuracy: {accuracy * 100:.2f}%\")\n",
        "\n",
        "# Calculate macro precision\n",
        "precision = precision_score(y_test, y_pred, average='macro')\n",
        "print(f\"Macro Precision: {precision * 100:.2f}%\")\n",
        "\n",
        "# Calculate macro recall\n",
        "recall = recall_score(y_test, y_pred, average='macro')\n",
        "print(f\"Macro Recall: {recall * 100:.2f}%\")\n"
      ],
      "metadata": {
        "colab": {
          "base_uri": "https://localhost:8080/"
        },
        "id": "nyTkMGho4xQk",
        "outputId": "eddaa617-5c61-4d3c-b75c-194932c29a2a"
      },
      "execution_count": null,
      "outputs": [
        {
          "output_type": "stream",
          "name": "stdout",
          "text": [
            "Accuracy: 95.41%\n",
            "Macro Precision: 95.44%\n",
            "Macro Recall: 95.39%\n"
          ]
        }
      ]
    },
    {
      "cell_type": "markdown",
      "source": [
        "**K Nearest Neighbour**"
      ],
      "metadata": {
        "id": "ODNRFUZtTysS"
      }
    },
    {
      "cell_type": "code",
      "execution_count": null,
      "metadata": {
        "id": "9Jfcx10ZyWjR",
        "colab": {
          "base_uri": "https://localhost:8080/"
        },
        "outputId": "06c28906-2a0c-41c6-ee44-3c9b4e689f07"
      },
      "outputs": [
        {
          "output_type": "stream",
          "name": "stderr",
          "text": [
            "/usr/local/lib/python3.10/dist-packages/sklearn/neighbors/_classification.py:215: DataConversionWarning: A column-vector y was passed when a 1d array was expected. Please change the shape of y to (n_samples,), for example using ravel().\n",
            "  return self._fit(X, y)\n"
          ]
        },
        {
          "output_type": "stream",
          "name": "stdout",
          "text": [
            "Accuracy: 0.9674118984463812\n",
            "*** Confusion Matrix ***\n",
            "[[11133    13     0     1     0]\n",
            " [   91 10424    40   442    48]\n",
            " [    0     0 11210     0     0]\n",
            " [   24   362    74 10330    80]\n",
            " [  206   100   112   213 10516]]\n"
          ]
        }
      ],
      "source": [
        "from sklearn.neighbors import KNeighborsClassifier\n",
        "clf = KNeighborsClassifier(n_neighbors = 7)\n",
        "clf.fit(X_train_scaled, y_train)\n",
        "# training accuracy\n",
        "#print('Accuracy for the train data', clf.score(X_train_scaled, y_train))\n",
        "\n",
        "from sklearn import metrics\n",
        "y_pred = clf.predict(X_test_scaled)\n",
        "print(\"Accuracy:\",metrics.accuracy_score(y_test, y_pred))\n",
        "\n",
        "print(\"*** Confusion Matrix ***\")\n",
        "print(metrics.confusion_matrix(y_test, y_pred))"
      ]
    },
    {
      "cell_type": "code",
      "source": [
        "from sklearn.metrics import accuracy_score, precision_score, recall_score, confusion_matrix\n",
        "accuracy = accuracy_score(y_test, y_pred)\n",
        "print(f\"Accuracy: {accuracy * 100:.2f}%\")\n",
        "\n",
        "# Calculate macro precision\n",
        "precision = precision_score(y_test, y_pred, average='macro')\n",
        "print(f\"Macro Precision: {precision * 100:.2f}%\")\n",
        "\n",
        "# Calculate macro recall\n",
        "recall = recall_score(y_test, y_pred, average='macro')\n",
        "print(f\"Macro Recall: {recall * 100:.2f}%\")\n"
      ],
      "metadata": {
        "colab": {
          "base_uri": "https://localhost:8080/"
        },
        "id": "wlPdWrAe5jPr",
        "outputId": "908430a9-7ea1-4590-d549-c74037b59428"
      },
      "execution_count": null,
      "outputs": [
        {
          "output_type": "stream",
          "name": "stdout",
          "text": [
            "Accuracy: 96.74%\n",
            "Macro Precision: 96.74%\n",
            "Macro Recall: 96.72%\n"
          ]
        }
      ]
    },
    {
      "cell_type": "markdown",
      "source": [
        "**Support Vector Machine**"
      ],
      "metadata": {
        "id": "flEoRevOT27h"
      }
    },
    {
      "cell_type": "code",
      "source": [
        "from sklearn.svm import SVC\n",
        "#Build the model\n",
        "svm = SVC(kernel=\"linear\", gamma=0.5, C=1.0)\n",
        "# Trained the model\n",
        "svm.fit(X_train_scaled, y_train)\n",
        "y_pred = svm.predict(X_test_scaled)\n",
        "print(\"Accuracy:\",metrics.accuracy_score(y_test, y_pred))\n",
        "from sklearn import metrics\n",
        "y_pred = svm.predict(X_test_scaled)\n",
        "print(\"Accuracy:\",metrics.accuracy_score(y_test, y_pred))"
      ],
      "metadata": {
        "colab": {
          "base_uri": "https://localhost:8080/",
          "height": 445
        },
        "id": "lJ_IdasKpgii",
        "outputId": "611b385b-8619-44e7-8861-67180f19769c"
      },
      "execution_count": null,
      "outputs": [
        {
          "metadata": {
            "tags": null
          },
          "name": "stderr",
          "output_type": "stream",
          "text": [
            "/usr/local/lib/python3.10/dist-packages/sklearn/utils/validation.py:1143: DataConversionWarning: A column-vector y was passed when a 1d array was expected. Please change the shape of y to (n_samples, ), for example using ravel().\n",
            "  y = column_or_1d(y, warn=True)\n"
          ]
        },
        {
          "ename": "KeyboardInterrupt",
          "evalue": "ignored",
          "output_type": "error",
          "traceback": [
            "\u001b[0;31m---------------------------------------------------------------------------\u001b[0m",
            "\u001b[0;31mKeyboardInterrupt\u001b[0m                         Traceback (most recent call last)",
            "\u001b[0;32m<ipython-input-18-445f4e62e131>\u001b[0m in \u001b[0;36m<cell line: 5>\u001b[0;34m()\u001b[0m\n\u001b[1;32m      3\u001b[0m \u001b[0msvm\u001b[0m \u001b[0;34m=\u001b[0m \u001b[0mSVC\u001b[0m\u001b[0;34m(\u001b[0m\u001b[0mkernel\u001b[0m\u001b[0;34m=\u001b[0m\u001b[0;34m\"linear\"\u001b[0m\u001b[0;34m,\u001b[0m \u001b[0mgamma\u001b[0m\u001b[0;34m=\u001b[0m\u001b[0;36m0.5\u001b[0m\u001b[0;34m,\u001b[0m \u001b[0mC\u001b[0m\u001b[0;34m=\u001b[0m\u001b[0;36m1.0\u001b[0m\u001b[0;34m)\u001b[0m\u001b[0;34m\u001b[0m\u001b[0;34m\u001b[0m\u001b[0m\n\u001b[1;32m      4\u001b[0m \u001b[0;31m# Trained the model\u001b[0m\u001b[0;34m\u001b[0m\u001b[0;34m\u001b[0m\u001b[0m\n\u001b[0;32m----> 5\u001b[0;31m \u001b[0msvm\u001b[0m\u001b[0;34m.\u001b[0m\u001b[0mfit\u001b[0m\u001b[0;34m(\u001b[0m\u001b[0mX_train_scaled\u001b[0m\u001b[0;34m,\u001b[0m \u001b[0my_train\u001b[0m\u001b[0;34m)\u001b[0m\u001b[0;34m\u001b[0m\u001b[0;34m\u001b[0m\u001b[0m\n\u001b[0m\u001b[1;32m      6\u001b[0m \u001b[0my_pred\u001b[0m \u001b[0;34m=\u001b[0m \u001b[0msvm\u001b[0m\u001b[0;34m.\u001b[0m\u001b[0mpredict\u001b[0m\u001b[0;34m(\u001b[0m\u001b[0mX_test_scaled\u001b[0m\u001b[0;34m)\u001b[0m\u001b[0;34m\u001b[0m\u001b[0;34m\u001b[0m\u001b[0m\n\u001b[1;32m      7\u001b[0m \u001b[0mprint\u001b[0m\u001b[0;34m(\u001b[0m\u001b[0;34m\"Accuracy:\"\u001b[0m\u001b[0;34m,\u001b[0m\u001b[0mmetrics\u001b[0m\u001b[0;34m.\u001b[0m\u001b[0maccuracy_score\u001b[0m\u001b[0;34m(\u001b[0m\u001b[0my_test\u001b[0m\u001b[0;34m,\u001b[0m \u001b[0my_pred\u001b[0m\u001b[0;34m)\u001b[0m\u001b[0;34m)\u001b[0m\u001b[0;34m\u001b[0m\u001b[0;34m\u001b[0m\u001b[0m\n",
            "\u001b[0;32m/usr/local/lib/python3.10/dist-packages/sklearn/svm/_base.py\u001b[0m in \u001b[0;36mfit\u001b[0;34m(self, X, y, sample_weight)\u001b[0m\n\u001b[1;32m    250\u001b[0m \u001b[0;34m\u001b[0m\u001b[0m\n\u001b[1;32m    251\u001b[0m         \u001b[0mseed\u001b[0m \u001b[0;34m=\u001b[0m \u001b[0mrnd\u001b[0m\u001b[0;34m.\u001b[0m\u001b[0mrandint\u001b[0m\u001b[0;34m(\u001b[0m\u001b[0mnp\u001b[0m\u001b[0;34m.\u001b[0m\u001b[0miinfo\u001b[0m\u001b[0;34m(\u001b[0m\u001b[0;34m\"i\"\u001b[0m\u001b[0;34m)\u001b[0m\u001b[0;34m.\u001b[0m\u001b[0mmax\u001b[0m\u001b[0;34m)\u001b[0m\u001b[0;34m\u001b[0m\u001b[0;34m\u001b[0m\u001b[0m\n\u001b[0;32m--> 252\u001b[0;31m         \u001b[0mfit\u001b[0m\u001b[0;34m(\u001b[0m\u001b[0mX\u001b[0m\u001b[0;34m,\u001b[0m \u001b[0my\u001b[0m\u001b[0;34m,\u001b[0m \u001b[0msample_weight\u001b[0m\u001b[0;34m,\u001b[0m \u001b[0msolver_type\u001b[0m\u001b[0;34m,\u001b[0m \u001b[0mkernel\u001b[0m\u001b[0;34m,\u001b[0m \u001b[0mrandom_seed\u001b[0m\u001b[0;34m=\u001b[0m\u001b[0mseed\u001b[0m\u001b[0;34m)\u001b[0m\u001b[0;34m\u001b[0m\u001b[0;34m\u001b[0m\u001b[0m\n\u001b[0m\u001b[1;32m    253\u001b[0m         \u001b[0;31m# see comment on the other call to np.iinfo in this file\u001b[0m\u001b[0;34m\u001b[0m\u001b[0;34m\u001b[0m\u001b[0m\n\u001b[1;32m    254\u001b[0m \u001b[0;34m\u001b[0m\u001b[0m\n",
            "\u001b[0;32m/usr/local/lib/python3.10/dist-packages/sklearn/svm/_base.py\u001b[0m in \u001b[0;36m_dense_fit\u001b[0;34m(self, X, y, sample_weight, solver_type, kernel, random_seed)\u001b[0m\n\u001b[1;32m    329\u001b[0m             \u001b[0mself\u001b[0m\u001b[0;34m.\u001b[0m\u001b[0mfit_status_\u001b[0m\u001b[0;34m,\u001b[0m\u001b[0;34m\u001b[0m\u001b[0;34m\u001b[0m\u001b[0m\n\u001b[1;32m    330\u001b[0m             \u001b[0mself\u001b[0m\u001b[0;34m.\u001b[0m\u001b[0m_num_iter\u001b[0m\u001b[0;34m,\u001b[0m\u001b[0;34m\u001b[0m\u001b[0;34m\u001b[0m\u001b[0m\n\u001b[0;32m--> 331\u001b[0;31m         \u001b[0;34m)\u001b[0m \u001b[0;34m=\u001b[0m \u001b[0mlibsvm\u001b[0m\u001b[0;34m.\u001b[0m\u001b[0mfit\u001b[0m\u001b[0;34m(\u001b[0m\u001b[0;34m\u001b[0m\u001b[0;34m\u001b[0m\u001b[0m\n\u001b[0m\u001b[1;32m    332\u001b[0m             \u001b[0mX\u001b[0m\u001b[0;34m,\u001b[0m\u001b[0;34m\u001b[0m\u001b[0;34m\u001b[0m\u001b[0m\n\u001b[1;32m    333\u001b[0m             \u001b[0my\u001b[0m\u001b[0;34m,\u001b[0m\u001b[0;34m\u001b[0m\u001b[0;34m\u001b[0m\u001b[0m\n",
            "\u001b[0;31mKeyboardInterrupt\u001b[0m: "
          ]
        }
      ]
    },
    {
      "cell_type": "code",
      "execution_count": null,
      "metadata": {
        "id": "buCt_c4B_j9t",
        "colab": {
          "base_uri": "https://localhost:8080/"
        },
        "outputId": "a135d06b-4346-4368-b00e-41c9e949f6d6"
      },
      "outputs": [
        {
          "output_type": "stream",
          "name": "stdout",
          "text": [
            "Classification Report:\n",
            "              precision    recall  f1-score   support\n",
            "\n",
            "           F       0.93      0.87      0.90     11147\n",
            "           Q       0.74      0.83      0.78     11045\n",
            "           N       0.83      0.87      0.85     11210\n",
            "        SVEB       0.78      0.80      0.79     10870\n",
            "         VEB       0.94      0.82      0.88     11147\n",
            "\n",
            "    accuracy                           0.84     55419\n",
            "   macro avg       0.84      0.84      0.84     55419\n",
            "weighted avg       0.84      0.84      0.84     55419\n",
            "\n"
          ]
        }
      ],
      "source": [
        "from sklearn.metrics import confusion_matrix, classification_report,precision_recall_fscore_support\n",
        "\n",
        "report = classification_report(y_test, y_pred, target_names=[\"F\",\"Q\",\"N\",\"SVEB\",\"VEB\"])\n",
        "print(\"Classification Report:\")\n",
        "print(report)"
      ]
    },
    {
      "cell_type": "markdown",
      "source": [
        "**Ensemble Model - Voting Classifier**"
      ],
      "metadata": {
        "id": "EqSTJh1NT7oR"
      }
    },
    {
      "cell_type": "code",
      "execution_count": null,
      "metadata": {
        "id": "zJ7bQMZsq4pF",
        "colab": {
          "base_uri": "https://localhost:8080/"
        },
        "outputId": "4eee9c18-253b-4d3b-8808-d090e0981b01"
      },
      "outputs": [
        {
          "output_type": "stream",
          "name": "stderr",
          "text": [
            "/usr/local/lib/python3.10/dist-packages/sklearn/preprocessing/_label.py:99: DataConversionWarning: A column-vector y was passed when a 1d array was expected. Please change the shape of y to (n_samples, ), for example using ravel().\n",
            "  y = column_or_1d(y, warn=True)\n",
            "/usr/local/lib/python3.10/dist-packages/sklearn/preprocessing/_label.py:134: DataConversionWarning: A column-vector y was passed when a 1d array was expected. Please change the shape of y to (n_samples, ), for example using ravel().\n",
            "  y = column_or_1d(y, dtype=self.classes_.dtype, warn=True)\n"
          ]
        },
        {
          "output_type": "stream",
          "name": "stdout",
          "text": [
            "Accuracy: 0.9776851851851852\n",
            "*** Confusion Matrix ***\n",
            "[[10857    20     0     1     3]\n",
            " [   48 10364    26   269    49]\n",
            " [    0     0 10858     0     0]\n",
            " [   25   224    52 10386    58]\n",
            " [  110    85    66   169 10330]]\n"
          ]
        }
      ],
      "source": [
        "from sklearn.ensemble import VotingClassifier,RandomForestClassifier\n",
        "from sklearn.neighbors import KNeighborsClassifier\n",
        "from sklearn.svm import SVC\n",
        "from sklearn import metrics\n",
        "svm = SVC(kernel='rbf', C=1, gamma=10, class_weight=None, probability=False)\n",
        "\n",
        "model = RandomForestClassifier(random_state=101, n_estimators=150)\n",
        "\n",
        "clf = KNeighborsClassifier(n_neighbors = 7)\n",
        "ensemble_classifier = VotingClassifier(estimators=[\n",
        "    ('svm', svm),\n",
        "    ('knn', clf),\n",
        "    ('rf', model)],\n",
        "    voting='hard')\n",
        "\n",
        "ensemble_classifier.fit(X_train_scaled, y_train)\n",
        "y_pred = ensemble_classifier.predict(X_test_scaled)\n",
        "print(\"Accuracy:\",metrics.accuracy_score(y_test, y_pred))\n",
        "\n",
        "print(\"*** Confusion Matrix ***\")\n",
        "print(metrics.confusion_matrix(y_test, y_pred))"
      ]
    },
    {
      "cell_type": "code",
      "source": [
        "from sklearn.metrics import precision_score, recall_score\n",
        "macro_precision = precision_score(y_test, y_pred, average='macro')\n",
        "macro_recall = recall_score(y_test, y_pred, average='macro')\n",
        "print(f\"Macro Precision: {macro_precision}\")\n",
        "print(f\"Macro Recall: {macro_recall}\")"
      ],
      "metadata": {
        "colab": {
          "base_uri": "https://localhost:8080/"
        },
        "id": "uz2pMYpfYWoB",
        "outputId": "2ff840c8-97ae-4586-829d-8bb46657bc15"
      },
      "execution_count": null,
      "outputs": [
        {
          "output_type": "stream",
          "name": "stdout",
          "text": [
            "Macro Precision: 0.9776953841373917\n",
            "Macro Recall: 0.9775951662602752\n"
          ]
        }
      ]
    },
    {
      "cell_type": "code",
      "execution_count": null,
      "metadata": {
        "id": "bFpb4-iFroZo",
        "colab": {
          "base_uri": "https://localhost:8080/"
        },
        "outputId": "d5a24586-4207-4580-c640-454e23ad0cbc"
      },
      "outputs": [
        {
          "output_type": "stream",
          "name": "stdout",
          "text": [
            "Confusion Matrix:\n",
            "[[10857    20     0     1     3]\n",
            " [   48 10364    26   269    49]\n",
            " [    0     0 10858     0     0]\n",
            " [   25   224    52 10386    58]\n",
            " [  110    85    66   169 10330]]\n",
            "Classification Report:\n",
            "              precision    recall  f1-score   support\n",
            "\n",
            "           F       0.98      1.00      0.99     10881\n",
            "           Q       0.97      0.96      0.97     10756\n",
            "           N       0.99      1.00      0.99     10858\n",
            "        SVEB       0.96      0.97      0.96     10745\n",
            "         VEB       0.99      0.96      0.97     10760\n",
            "\n",
            "    accuracy                           0.98     54000\n",
            "   macro avg       0.98      0.98      0.98     54000\n",
            "weighted avg       0.98      0.98      0.98     54000\n",
            "\n"
          ]
        }
      ],
      "source": [
        "import numpy as np\n",
        "import matplotlib.pyplot as plt\n",
        "from sklearn.metrics import confusion_matrix\n",
        "\n",
        "# Calculate the confusion matrix\n",
        "cm = confusion_matrix(y_test, y_pred)\n",
        "\n",
        "# Print the confusion matrix\n",
        "print(\"Confusion Matrix:\")\n",
        "print(cm)\n",
        "\n",
        "# Calculate and print classification report\n",
        "report = classification_report(y_test, y_pred, target_names=[\"F\",\"Q\",\"N\",\"SVEB\",\"VEB\"])\n",
        "print(\"Classification Report:\")\n",
        "print(report)\n"
      ]
    },
    {
      "cell_type": "code",
      "execution_count": null,
      "metadata": {
        "id": "iJYNmiT66Ml6",
        "colab": {
          "base_uri": "https://localhost:8080/",
          "height": 564
        },
        "outputId": "07b9d88e-7fd2-48be-c08a-674ad739f8cb"
      },
      "outputs": [
        {
          "output_type": "display_data",
          "data": {
            "text/plain": [
              "<Figure size 800x600 with 2 Axes>"
            ],
            "image/png": "[encoded data removed]"
          },
          "metadata": {}
        }
      ],
      "source": [
        "import matplotlib.pyplot as plt\n",
        "import seaborn as sns\n",
        "# Create a heatmap for the confusion matrix using seaborn\n",
        "plt.figure(figsize=(8, 6))\n",
        "sns.heatmap(cm, annot=True, fmt=\"d\", cmap=\"Blues\", xticklabels=[\"F\",\"Q\",\"N\",\"SVEB\",\"VEB\"], yticklabels=[\"F\",\"Q\",\"N\",\"SVEB\",\"VEB\"])\n",
        "plt.xlabel(\"Predicted\")\n",
        "plt.ylabel(\"True\")\n",
        "plt.title(\"Confusion Matrix\")\n",
        "plt.show()"
      ]
    }
  ],
  "metadata": {
    "colab": {
      "provenance": []
    },
    "kernelspec": {
      "display_name": "Python 3",
      "name": "python3"
    },
    "language_info": {
      "name": "python"
    }
  },
  "nbformat": 4,
  "nbformat_minor": 0
}